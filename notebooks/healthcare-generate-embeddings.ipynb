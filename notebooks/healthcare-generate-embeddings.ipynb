{
 "cells": [
  {
   "cell_type": "code",
   "execution_count": 1,
   "metadata": {
    "_cell_guid": "b1076dfc-b9ad-4769-8c92-a6c4dae69d19",
    "_uuid": "8f2839f25d086af736a60e9eeb907d3b93b6e0e5",
    "tags": []
   },
   "outputs": [
    {
     "name": "stdout",
     "output_type": "stream",
     "text": [
      "Running on torch 1.9.0v, transformers 4.8.1v, datasets 1.8.0\n"
     ]
    }
   ],
   "source": [
    "import torch\n",
    "import transformers\n",
    "import datasets\n",
    "\n",
    "print(f\"Running on torch {torch.__version__}v, transformers {transformers.__version__}v, datasets {datasets.__version__}\")"
   ]
  },
  {
   "cell_type": "code",
   "execution_count": 2,
   "metadata": {
    "tags": []
   },
   "outputs": [],
   "source": [
    "import numpy as np\n",
    "import pandas as pd\n",
    "from transformers import logging, BertConfig, BertTokenizer, BertModel\n",
    "from datasets import load_dataset\n",
    "\n",
    "import os\n",
    "import sys\n",
    "import random\n",
    "import warnings\n",
    "import gc; gc.enable()\n",
    "from tqdm.notebook import tqdm\n",
    "from IPython.display import clear_output\n",
    "\n",
    "logging.set_verbosity_error()\n",
    "warnings.filterwarnings('ignore')\n",
    "SEED = 1618\n",
    "DEVICE = torch.device('cuda' if torch.cuda.is_available() else 'cpu')"
   ]
  },
  {
   "cell_type": "code",
   "execution_count": 3,
   "metadata": {
    "tags": []
   },
   "outputs": [],
   "source": [
    "def set_seed(seed = 0):\n",
    "    np.random.seed(seed)\n",
    "    random_state = np.random.RandomState(seed)\n",
    "    random.seed(seed)\n",
    "    torch.manual_seed(seed)\n",
    "    torch.cuda.manual_seed(seed)\n",
    "    torch.backends.cudnn.deterministic = True\n",
    "    torch.backends.cudnn.benchmark = False\n",
    "    os.environ['PYTHONHASHSEED'] = str(seed)\n",
    "    return random_state\n",
    "\n",
    "random_state = set_seed(SEED)"
   ]
  },
  {
   "cell_type": "code",
   "execution_count": 4,
   "metadata": {
    "tags": []
   },
   "outputs": [],
   "source": [
    "train = pd.read_csv('../data/claim_train_df.csv', low_memory=False)\n",
    "validation = pd.read_csv('../data/claim_val_df.csv', low_memory=False)\n",
    "test = pd.read_csv('../data/claim_test_df.csv', low_memory=False)\n",
    "\n",
    "claim_ds = datasets.DatasetDict({\n",
    "    'train': datasets.Dataset.from_pandas(train),\n",
    "    'test': datasets.Dataset.from_pandas(test),\n",
    "    'validation': datasets.Dataset.from_pandas(validation)})\n",
    "\n",
    "train = pd.read_csv('../data/main_text_train_df.csv', low_memory=False)\n",
    "validation = pd.read_csv('../data/main_text_val_df.csv', low_memory=False)\n",
    "test = pd.read_csv('../data/main_text_test_df.csv', low_memory=False)\n",
    "\n",
    "main_text_ds = datasets.DatasetDict({\n",
    "    'train': datasets.Dataset.from_pandas(train),\n",
    "    'test': datasets.Dataset.from_pandas(test),\n",
    "    'validation': datasets.Dataset.from_pandas(validation)})\n",
    "\n",
    "del train, validation, test\n",
    "gc.collect()\n",
    "clear_output()"
   ]
  },
  {
   "cell_type": "code",
   "execution_count": 5,
   "metadata": {
    "tags": []
   },
   "outputs": [
    {
     "data": {
      "text/plain": [
       "DatasetDict({\n",
       "    train: Dataset({\n",
       "        features: ['sentence', 'claim_id', 'label'],\n",
       "        num_rows: 9814\n",
       "    })\n",
       "    test: Dataset({\n",
       "        features: ['sentence', 'claim_id', 'label'],\n",
       "        num_rows: 1235\n",
       "    })\n",
       "    validation: Dataset({\n",
       "        features: ['sentence', 'claim_id', 'label'],\n",
       "        num_rows: 1217\n",
       "    })\n",
       "})"
      ]
     },
     "execution_count": 5,
     "metadata": {},
     "output_type": "execute_result"
    }
   ],
   "source": [
    "claim_ds"
   ]
  },
  {
   "cell_type": "code",
   "execution_count": 6,
   "metadata": {
    "tags": []
   },
   "outputs": [
    {
     "data": {
      "text/plain": [
       "DatasetDict({\n",
       "    train: Dataset({\n",
       "        features: ['claim_id', 'sent_id', 'sentence'],\n",
       "        num_rows: 333010\n",
       "    })\n",
       "    test: Dataset({\n",
       "        features: ['claim_id', 'sent_id', 'sentence'],\n",
       "        num_rows: 42961\n",
       "    })\n",
       "    validation: Dataset({\n",
       "        features: ['claim_id', 'sent_id', 'sentence'],\n",
       "        num_rows: 41122\n",
       "    })\n",
       "})"
      ]
     },
     "execution_count": 6,
     "metadata": {},
     "output_type": "execute_result"
    }
   ],
   "source": [
    "main_text_ds"
   ]
  },
  {
   "cell_type": "code",
   "execution_count": 7,
   "metadata": {
    "tags": []
   },
   "outputs": [],
   "source": [
    "cp = \"microsoft/BiomedNLP-PubMedBERT-base-uncased-abstract-fulltext\"\n",
    "tokenizer = BertTokenizer.from_pretrained(cp)\n",
    "model = BertModel.from_pretrained(cp)\n",
    "model.to(DEVICE)\n",
    "model.eval()\n",
    "clear_output()"
   ]
  },
  {
   "cell_type": "code",
   "execution_count": 8,
   "metadata": {
    "tags": []
   },
   "outputs": [],
   "source": [
    "MAX_LENGTH=256\n",
    "def tokenize_and_encode(examples):\n",
    "    return tokenizer.batch_encode_plus(examples['sentence'], truncation=True, padding='max_length', max_length=MAX_LENGTH)\n",
    "\n",
    "def generate_embeddings_dataframe_for(ds, feature_name):\n",
    "    cols = ds[\"train\"].column_names\n",
    "    encoded_datasets = ds.map(tokenize_and_encode, batched=True, remove_columns=cols, num_proc=2)\n",
    "    clear_output()\n",
    "    encoded_datasets.set_format(\"torch\")\n",
    "\n",
    "    for key in encoded_datasets:\n",
    "        cls_embeddings = []\n",
    "        dataloader = torch.utils.data.DataLoader(encoded_datasets[key], batch_size=100)\n",
    "        for batch in tqdm(dataloader):\n",
    "            inputs = {\n",
    "                    'attention_mask': batch['attention_mask'].to(DEVICE),\n",
    "                    'input_ids': batch['input_ids'].to(DEVICE),\n",
    "                    'token_type_ids': batch['token_type_ids'].to(DEVICE),\n",
    "                }\n",
    "            with torch.no_grad():\n",
    "                output = model(**inputs)\n",
    "                cls_embeddings.extend(output.last_hidden_state[:,0,:].detach().cpu().numpy())\n",
    "        \n",
    "        column_names = []\n",
    "        for i in range(len(cls_embeddings[0])):\n",
    "            column_names.append(str(i))\n",
    "        \n",
    "        embeddings_df = pd.DataFrame(data=cls_embeddings, columns=column_names)\n",
    "        if feature_name == \"claim\":\n",
    "            embeddings_df['claim_id'] = ds[key]['claim_id']\n",
    "        else:\n",
    "            embeddings_df['claim_id'] = ds[key]['claim_id']\n",
    "            embeddings_df['sent_id'] = ds[key]['sent_id']\n",
    "        \n",
    "        filename = key +\"_\"+ feature_name +\"_embeddings.csv\"\n",
    "        embeddings_df.to_csv('../data/'+filename, index=False)\n",
    "    return 'Embeddings files generated'"
   ]
  },
  {
   "cell_type": "code",
   "execution_count": 9,
   "metadata": {
    "tags": []
   },
   "outputs": [
    {
     "data": {
      "application/vnd.jupyter.widget-view+json": {
       "model_id": "a2b6b6be4861429dad3dfb515783e4f6",
       "version_major": 2,
       "version_minor": 0
      },
      "text/plain": [
       "HBox(children=(FloatProgress(value=0.0, max=99.0), HTML(value='')))"
      ]
     },
     "metadata": {},
     "output_type": "display_data"
    },
    {
     "name": "stdout",
     "output_type": "stream",
     "text": [
      "\n"
     ]
    },
    {
     "data": {
      "application/vnd.jupyter.widget-view+json": {
       "model_id": "4834b2da4e3d4d068ca5dc1738ef1d4f",
       "version_major": 2,
       "version_minor": 0
      },
      "text/plain": [
       "HBox(children=(FloatProgress(value=0.0, max=13.0), HTML(value='')))"
      ]
     },
     "metadata": {},
     "output_type": "display_data"
    },
    {
     "name": "stdout",
     "output_type": "stream",
     "text": [
      "\n"
     ]
    },
    {
     "data": {
      "application/vnd.jupyter.widget-view+json": {
       "model_id": "271b3f25f5f646169eaed3bf733f9c1b",
       "version_major": 2,
       "version_minor": 0
      },
      "text/plain": [
       "HBox(children=(FloatProgress(value=0.0, max=13.0), HTML(value='')))"
      ]
     },
     "metadata": {},
     "output_type": "display_data"
    },
    {
     "name": "stdout",
     "output_type": "stream",
     "text": [
      "\n"
     ]
    },
    {
     "data": {
      "text/plain": [
       "'Embeddings files generated'"
      ]
     },
     "execution_count": 9,
     "metadata": {},
     "output_type": "execute_result"
    }
   ],
   "source": [
    "generate_embeddings_dataframe_for(claim_ds, 'claim')"
   ]
  },
  {
   "cell_type": "code",
   "execution_count": 10,
   "metadata": {},
   "outputs": [
    {
     "data": {
      "application/vnd.jupyter.widget-view+json": {
       "model_id": "64783ca867804b73a13052224fe22c1d",
       "version_major": 2,
       "version_minor": 0
      },
      "text/plain": [
       "HBox(children=(FloatProgress(value=0.0, max=3331.0), HTML(value='')))"
      ]
     },
     "metadata": {},
     "output_type": "display_data"
    },
    {
     "name": "stdout",
     "output_type": "stream",
     "text": [
      "\n"
     ]
    },
    {
     "data": {
      "application/vnd.jupyter.widget-view+json": {
       "model_id": "9ae0e24512004641bd8d6b3e19308cf3",
       "version_major": 2,
       "version_minor": 0
      },
      "text/plain": [
       "HBox(children=(FloatProgress(value=0.0, max=430.0), HTML(value='')))"
      ]
     },
     "metadata": {},
     "output_type": "display_data"
    },
    {
     "name": "stdout",
     "output_type": "stream",
     "text": [
      "\n"
     ]
    },
    {
     "data": {
      "application/vnd.jupyter.widget-view+json": {
       "model_id": "072216c6913b45a3860ae900b0533d10",
       "version_major": 2,
       "version_minor": 0
      },
      "text/plain": [
       "HBox(children=(FloatProgress(value=0.0, max=412.0), HTML(value='')))"
      ]
     },
     "metadata": {},
     "output_type": "display_data"
    },
    {
     "name": "stdout",
     "output_type": "stream",
     "text": [
      "\n"
     ]
    },
    {
     "data": {
      "text/plain": [
       "'Embeddings files generated'"
      ]
     },
     "execution_count": 10,
     "metadata": {},
     "output_type": "execute_result"
    }
   ],
   "source": [
    "generate_embeddings_dataframe_for(main_text_ds, 'main_text')"
   ]
  },
  {
   "cell_type": "code",
   "execution_count": null,
   "metadata": {},
   "outputs": [],
   "source": []
  }
 ],
 "metadata": {
  "kernelspec": {
   "display_name": "pytorch38",
   "language": "python",
   "name": "pytorch38"
  },
  "language_info": {
   "codemirror_mode": {
    "name": "ipython",
    "version": 3
   },
   "file_extension": ".py",
   "mimetype": "text/x-python",
   "name": "python",
   "nbconvert_exporter": "python",
   "pygments_lexer": "ipython3",
   "version": "3.8.10"
  }
 },
 "nbformat": 4,
 "nbformat_minor": 4
}
