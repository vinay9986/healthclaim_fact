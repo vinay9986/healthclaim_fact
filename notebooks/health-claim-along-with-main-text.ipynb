{
 "cells": [
  {
   "cell_type": "code",
   "execution_count": 1,
   "metadata": {
    "_cell_guid": "b1076dfc-b9ad-4769-8c92-a6c4dae69d19",
    "_uuid": "8f2839f25d086af736a60e9eeb907d3b93b6e0e5",
    "execution": {
     "iopub.execute_input": "2021-09-16T23:16:55.026236Z",
     "iopub.status.busy": "2021-09-16T23:16:55.025872Z",
     "iopub.status.idle": "2021-09-16T23:17:00.190200Z",
     "shell.execute_reply": "2021-09-16T23:17:00.188524Z",
     "shell.execute_reply.started": "2021-09-16T23:16:55.026151Z"
    }
   },
   "outputs": [
    {
     "name": "stdout",
     "output_type": "stream",
     "text": [
      "Running on torch 1.7.1+cu110v, transformers 4.9.2v, datasets 1.11.0\n"
     ]
    }
   ],
   "source": [
    "import torch\n",
    "import transformers\n",
    "import datasets\n",
    "\n",
    "print(f\"Running on torch {torch.__version__}v, transformers {transformers.__version__}v, datasets {datasets.__version__}\")"
   ]
  },
  {
   "cell_type": "code",
   "execution_count": 19,
   "metadata": {
    "execution": {
     "iopub.execute_input": "2021-09-16T23:25:27.719199Z",
     "iopub.status.busy": "2021-09-16T23:25:27.718645Z",
     "iopub.status.idle": "2021-09-16T23:25:27.725143Z",
     "shell.execute_reply": "2021-09-16T23:25:27.724390Z",
     "shell.execute_reply.started": "2021-09-16T23:25:27.719159Z"
    }
   },
   "outputs": [],
   "source": [
    "import numpy as np\n",
    "\n",
    "from bs4 import BeautifulSoup\n",
    "import unicodedata\n",
    "import re\n",
    "\n",
    "from transformers import (AdamW, get_linear_schedule_with_warmup, logging,\n",
    "                          BertConfig, BertTokenizer, BertForSequenceClassification)\n",
    "from datasets import load_dataset\n",
    "\n",
    "from sklearn.preprocessing import LabelBinarizer\n",
    "from sklearn.metrics import accuracy_score, f1_score\n",
    "\n",
    "import os\n",
    "import random\n",
    "import warnings\n",
    "from IPython.display import clear_output\n",
    "from tqdm.notebook import tqdm\n",
    "\n",
    "warnings.filterwarnings('ignore')\n",
    "SEED = 1618\n",
    "DEVICE = torch.device('cuda' if torch.cuda.is_available() else 'cpu')"
   ]
  },
  {
   "cell_type": "code",
   "execution_count": 3,
   "metadata": {
    "execution": {
     "iopub.execute_input": "2021-09-16T23:17:05.314923Z",
     "iopub.status.busy": "2021-09-16T23:17:05.314641Z",
     "iopub.status.idle": "2021-09-16T23:17:05.323960Z",
     "shell.execute_reply": "2021-09-16T23:17:05.322720Z",
     "shell.execute_reply.started": "2021-09-16T23:17:05.314891Z"
    }
   },
   "outputs": [],
   "source": [
    "def set_seed(seed = 0):\n",
    "    np.random.seed(seed)\n",
    "    random_state = np.random.RandomState(seed)\n",
    "    random.seed(seed)\n",
    "    torch.manual_seed(seed)\n",
    "    torch.cuda.manual_seed(seed)\n",
    "    torch.backends.cudnn.deterministic = True\n",
    "    torch.backends.cudnn.benchmark = False\n",
    "    os.environ['PYTHONHASHSEED'] = str(seed)\n",
    "    return random_state\n",
    "\n",
    "random_state = set_seed(SEED)"
   ]
  },
  {
   "cell_type": "code",
   "execution_count": 8,
   "metadata": {
    "execution": {
     "iopub.execute_input": "2021-09-16T23:17:59.249367Z",
     "iopub.status.busy": "2021-09-16T23:17:59.248652Z",
     "iopub.status.idle": "2021-09-16T23:18:07.691202Z",
     "shell.execute_reply": "2021-09-16T23:18:07.690464Z",
     "shell.execute_reply.started": "2021-09-16T23:17:59.249333Z"
    }
   },
   "outputs": [
    {
     "data": {
      "text/plain": [
       "array([-1,  0,  1,  2,  3])"
      ]
     },
     "execution_count": 8,
     "metadata": {},
     "output_type": "execute_result"
    }
   ],
   "source": [
    "ds = load_dataset(\"health_fact\", \"regular\")\n",
    "clear_output()\n",
    "np.unique(ds['train']['label'])"
   ]
  },
  {
   "cell_type": "code",
   "execution_count": 9,
   "metadata": {
    "execution": {
     "iopub.execute_input": "2021-09-16T23:18:09.306094Z",
     "iopub.status.busy": "2021-09-16T23:18:09.305838Z",
     "iopub.status.idle": "2021-09-16T23:18:12.027886Z",
     "shell.execute_reply": "2021-09-16T23:18:12.026907Z",
     "shell.execute_reply.started": "2021-09-16T23:18:09.306066Z"
    }
   },
   "outputs": [
    {
     "data": {
      "text/plain": [
       "array([0, 1, 2, 3, 4])"
      ]
     },
     "execution_count": 9,
     "metadata": {},
     "output_type": "execute_result"
    }
   ],
   "source": [
    "ds = (ds\n",
    "      .map(lambda x : {'label_updated': x['label'] + 1}, remove_columns=['label'])\n",
    "      .rename_column('label_updated', 'label'))\n",
    "clear_output()\n",
    "np.unique(ds['train']['label'])"
   ]
  },
  {
   "cell_type": "code",
   "execution_count": 10,
   "metadata": {
    "execution": {
     "iopub.execute_input": "2021-09-16T23:18:12.029982Z",
     "iopub.status.busy": "2021-09-16T23:18:12.029708Z",
     "iopub.status.idle": "2021-09-16T23:18:38.152877Z",
     "shell.execute_reply": "2021-09-16T23:18:38.152213Z",
     "shell.execute_reply.started": "2021-09-16T23:18:12.029947Z"
    }
   },
   "outputs": [],
   "source": [
    "cp = \"microsoft/BiomedNLP-PubMedBERT-base-uncased-abstract-fulltext\"\n",
    "tokenizer = BertTokenizer.from_pretrained(cp)\n",
    "config = BertConfig.from_pretrained(cp)\n",
    "config.update({'num_labels': 5})\n",
    "model = BertForSequenceClassification.from_pretrained(cp, config=config)\n",
    "model.to(DEVICE)\n",
    "clear_output()"
   ]
  },
  {
   "cell_type": "code",
   "execution_count": 11,
   "metadata": {
    "execution": {
     "iopub.execute_input": "2021-09-16T23:18:38.154391Z",
     "iopub.status.busy": "2021-09-16T23:18:38.154125Z",
     "iopub.status.idle": "2021-09-16T23:18:44.959372Z",
     "shell.execute_reply": "2021-09-16T23:18:44.958746Z",
     "shell.execute_reply.started": "2021-09-16T23:18:38.154356Z"
    }
   },
   "outputs": [
    {
     "data": {
      "text/plain": [
       "DatasetDict({\n",
       "    train: Dataset({\n",
       "        features: ['claim_id', 'claim', 'date_published', 'explanation', 'fact_checkers', 'main_text', 'sources', 'subjects', 'label'],\n",
       "        num_rows: 9832\n",
       "    })\n",
       "    test: Dataset({\n",
       "        features: ['claim_id', 'claim', 'date_published', 'explanation', 'fact_checkers', 'main_text', 'sources', 'subjects', 'label'],\n",
       "        num_rows: 1235\n",
       "    })\n",
       "    validation: Dataset({\n",
       "        features: ['claim_id', 'claim', 'date_published', 'explanation', 'fact_checkers', 'main_text', 'sources', 'subjects', 'label'],\n",
       "        num_rows: 1225\n",
       "    })\n",
       "})"
      ]
     },
     "execution_count": 11,
     "metadata": {},
     "output_type": "execute_result"
    }
   ],
   "source": [
    "lb = LabelBinarizer()\n",
    "lb = lb.fit(ds['train']['label'])\n",
    "ds = (ds\n",
    "      .map(lambda x : {'label_list': lb.transform([x['label']])[0]}, remove_columns=['label'])\n",
    "      .rename_column('label_list', 'label'))\n",
    "clear_output()\n",
    "ds"
   ]
  },
  {
   "cell_type": "code",
   "execution_count": 12,
   "metadata": {
    "execution": {
     "iopub.execute_input": "2021-09-16T23:18:44.965783Z",
     "iopub.status.busy": "2021-09-16T23:18:44.963634Z",
     "iopub.status.idle": "2021-09-16T23:18:44.977196Z",
     "shell.execute_reply": "2021-09-16T23:18:44.974282Z",
     "shell.execute_reply.started": "2021-09-16T23:18:44.965745Z"
    }
   },
   "outputs": [],
   "source": [
    "def remove_html_tags(text):\n",
    "    return BeautifulSoup(text, 'html.parser').get_text()\n",
    "\n",
    "def remove_accented_chars(text):\n",
    "    return unicodedata.normalize('NFKD', text).encode('ascii', 'ignore').decode('utf-8', 'ignore')\n",
    "\n",
    "def remove_special_characters(text): \n",
    "    return re.sub(r'[^a-zA-z0-9.,!?/:;\\\"\\'\\s]', '', text)\n",
    "\n",
    "def remove_extra_whitespace_tabs(text):\n",
    "    return re.sub(r'^\\s*|\\s\\s*', ' ', text).strip()\n",
    "\n",
    "def preprocess(text):\n",
    "    processed_text = remove_html_tags(text)\n",
    "    processed_text = remove_accented_chars(processed_text)\n",
    "    processed_text = remove_special_characters(processed_text)\n",
    "    processed_text = remove_extra_whitespace_tabs(processed_text)\n",
    "    return processed_text"
   ]
  },
  {
   "cell_type": "code",
   "execution_count": 13,
   "metadata": {
    "execution": {
     "iopub.execute_input": "2021-09-16T23:18:44.981430Z",
     "iopub.status.busy": "2021-09-16T23:18:44.980833Z",
     "iopub.status.idle": "2021-09-16T23:23:13.352896Z",
     "shell.execute_reply": "2021-09-16T23:23:13.352146Z",
     "shell.execute_reply.started": "2021-09-16T23:18:44.981394Z"
    }
   },
   "outputs": [
    {
     "data": {
      "text/plain": [
       "DatasetDict({\n",
       "    train: Dataset({\n",
       "        features: ['attention_mask', 'input_ids', 'label', 'token_type_ids'],\n",
       "        num_rows: 9832\n",
       "    })\n",
       "    test: Dataset({\n",
       "        features: ['attention_mask', 'input_ids', 'label', 'token_type_ids'],\n",
       "        num_rows: 1235\n",
       "    })\n",
       "    validation: Dataset({\n",
       "        features: ['attention_mask', 'input_ids', 'label', 'token_type_ids'],\n",
       "        num_rows: 1225\n",
       "    })\n",
       "})"
      ]
     },
     "execution_count": 13,
     "metadata": {},
     "output_type": "execute_result"
    }
   ],
   "source": [
    "MAX_LENGTH = 256\n",
    "def tokenize_and_encode(examples):\n",
    "    batch_pair = [(examples['claim'][i], preprocess(examples['main_text'][i])) for i in range(len(examples['claim_id']))]\n",
    "    return tokenizer.batch_encode_plus(batch_pair, truncation=True, padding='max_length', max_length=MAX_LENGTH)\n",
    "\n",
    "cols = ds[\"train\"].column_names\n",
    "cols.remove(\"label\")\n",
    "ds_enc = ds.map(tokenize_and_encode, batched=True, remove_columns=cols, num_proc=2)\n",
    "ds_enc"
   ]
  },
  {
   "cell_type": "code",
   "execution_count": 14,
   "metadata": {
    "execution": {
     "iopub.execute_input": "2021-09-16T23:23:13.355056Z",
     "iopub.status.busy": "2021-09-16T23:23:13.354312Z",
     "iopub.status.idle": "2021-09-16T23:23:24.877864Z",
     "shell.execute_reply": "2021-09-16T23:23:24.877041Z",
     "shell.execute_reply.started": "2021-09-16T23:23:13.355017Z"
    }
   },
   "outputs": [
    {
     "data": {
      "text/plain": [
       "{'attention_mask': tensor([1, 1, 1, 1, 1, 1, 1, 1, 1, 1, 1, 1, 1, 1, 1, 1, 1, 1, 1, 1, 1, 1, 1, 1,\n",
       "         1, 1, 1, 1, 1, 1, 1, 1, 1, 1, 1, 1, 1, 1, 1, 1, 1, 1, 1, 1, 1, 1, 1, 1,\n",
       "         1, 1, 1, 1, 1, 1, 1, 1, 1, 1, 1, 1, 1, 1, 1, 1, 1, 1, 1, 1, 1, 1, 1, 1,\n",
       "         1, 1, 1, 1, 1, 1, 1, 1, 1, 1, 1, 1, 1, 1, 1, 1, 1, 1, 1, 1, 1, 1, 1, 1,\n",
       "         1, 1, 1, 1, 1, 1, 1, 1, 1, 1, 1, 1, 1, 1, 1, 1, 1, 1, 1, 1, 1, 1, 1, 1,\n",
       "         1, 1, 1, 1, 1, 1, 1, 1, 1, 1, 1, 1, 1, 1, 1, 1, 1, 1, 1, 1, 1, 1, 1, 1,\n",
       "         1, 1, 1, 1, 1, 1, 1, 1, 1, 1, 1, 1, 1, 1, 1, 1, 1, 1, 1, 1, 1, 1, 1, 1,\n",
       "         1, 1, 1, 1, 1, 1, 1, 1, 1, 1, 1, 1, 1, 1, 1, 1, 1, 1, 1, 1, 1, 1, 1, 1,\n",
       "         1, 1, 1, 1, 1, 1, 1, 1, 1, 1, 1, 1, 1, 1, 1, 1, 1, 1, 1, 1, 1, 1, 1, 1,\n",
       "         1, 1, 1, 1, 1, 1, 1, 1, 1, 1, 1, 1, 1, 1, 1, 1, 1, 1, 1, 1, 1, 1, 1, 1,\n",
       "         1, 1, 1, 1, 1, 1, 1, 1, 1, 1, 1, 1, 1, 1, 1, 1]),\n",
       " 'input_ids': tensor([    2,     6,  1920, 16719,  1920,  2442,  5405,  6896,  8659,  2037,\n",
       "          2037, 12400, 24662,  2679, 13953,  2141,  2442,  5405,  1982,  8571,\n",
       "          2141,  1927,  3360,     6,     6,  1977,  5436, 28313,    18,   244,\n",
       "          1920, 24325, 12471,  1036,  6253,  2112,   234,    62,  6132,  2052,\n",
       "          1955, 15937,    18,     6,     3,     6, 13953,  2141,  2442,  5405,\n",
       "          1977,  1922,  1920, 14394,  3567, 29559,  5675,  1966,  1920,  6799,\n",
       "          1927,    43,  2814, 14367, 11169,  2286, 26217,  7845, 25439,  2192,\n",
       "          3656,  4462,  1930,  5602,  3308,    18,  2019,  6972,  1922, 11375,\n",
       "          6799, 24227, 12005, 14209, 28643, 19133, 20822, 14367,  2442,  5405,\n",
       "         27593,  2032, 17886,  1036,  2037, 12400, 24662,  1942,  1920,  2442,\n",
       "          5405,  6896,  2409,  1920,  3006,  2739,  4693,  9599,  1966,  8571,\n",
       "          2141,  1927,  3360,    18, 25989,  3537, 15409,  7540, 11677,  2251,\n",
       "          1925,  5132,  1956, 12005, 14209, 14151,  1990,  7219,  2052,  2982,\n",
       "          1942,  3575,  2397,  4663,  2303, 24857, 21900,  1928,  5776,  3535,\n",
       "          2162,  2435,    30,  2276,  1977,  2239,     6,     6,  5075, 20992,\n",
       "             6,     6,  4570,  1988, 17886,  1036,  1942,  1920,  6896,  6950,\n",
       "          3656, 12400,  7299,  8693,    18,  3974,    16,  8733, 15461,  1928,\n",
       "          5953, 20942,  2814,  1031, 12485,  4698, 12471,  1036,  1920, 17886,\n",
       "          1036,  2032,     6,     6,  5436, 28313,     6,     6,  2441, 14137,\n",
       "          8340,    18,  1922,  4167,  4263,    16,    43, 17886,  2007,    43,\n",
       "         12400,  8860,  1942,  1920,  2442,  5405,  6896,  2679,  2442,  5405,\n",
       "          1982,  8571,  2141,  1927,  3360,  1977,  1920,  2841,  1966, 16719,\n",
       "          8437,  4103,  1942,  3656,    16,  2234, 12029,    16,  3385,  4170,\n",
       "          4693,  2811,  2084, 23604,  1920,  6896,  1036,  7353,  4801,  4693,\n",
       "          3506,  3656,  2753,    18,     6,     6,  1920, 24325,  1927,  1920,\n",
       "          6128,  4376, 12471,  1036,  6253,     3]),\n",
       " 'token_type_ids': tensor([0, 0, 0, 0, 0, 0, 0, 0, 0, 0, 0, 0, 0, 0, 0, 0, 0, 0, 0, 0, 0, 0, 0, 0,\n",
       "         0, 0, 0, 0, 0, 0, 0, 0, 0, 0, 0, 0, 0, 0, 0, 0, 0, 0, 0, 0, 0, 1, 1, 1,\n",
       "         1, 1, 1, 1, 1, 1, 1, 1, 1, 1, 1, 1, 1, 1, 1, 1, 1, 1, 1, 1, 1, 1, 1, 1,\n",
       "         1, 1, 1, 1, 1, 1, 1, 1, 1, 1, 1, 1, 1, 1, 1, 1, 1, 1, 1, 1, 1, 1, 1, 1,\n",
       "         1, 1, 1, 1, 1, 1, 1, 1, 1, 1, 1, 1, 1, 1, 1, 1, 1, 1, 1, 1, 1, 1, 1, 1,\n",
       "         1, 1, 1, 1, 1, 1, 1, 1, 1, 1, 1, 1, 1, 1, 1, 1, 1, 1, 1, 1, 1, 1, 1, 1,\n",
       "         1, 1, 1, 1, 1, 1, 1, 1, 1, 1, 1, 1, 1, 1, 1, 1, 1, 1, 1, 1, 1, 1, 1, 1,\n",
       "         1, 1, 1, 1, 1, 1, 1, 1, 1, 1, 1, 1, 1, 1, 1, 1, 1, 1, 1, 1, 1, 1, 1, 1,\n",
       "         1, 1, 1, 1, 1, 1, 1, 1, 1, 1, 1, 1, 1, 1, 1, 1, 1, 1, 1, 1, 1, 1, 1, 1,\n",
       "         1, 1, 1, 1, 1, 1, 1, 1, 1, 1, 1, 1, 1, 1, 1, 1, 1, 1, 1, 1, 1, 1, 1, 1,\n",
       "         1, 1, 1, 1, 1, 1, 1, 1, 1, 1, 1, 1, 1, 1, 1, 1]),\n",
       " 'label': tensor([0., 1., 0., 0., 0.])}"
      ]
     },
     "execution_count": 14,
     "metadata": {},
     "output_type": "execute_result"
    }
   ],
   "source": [
    "ds_enc.set_format(\"torch\")\n",
    "ds_enc = (ds_enc\n",
    "          .map(lambda x : {\"float_label\": x[\"label\"].to(torch.float)}, remove_columns=[\"label\"])\n",
    "          .rename_column(\"float_label\", \"label\"))\n",
    "clear_output()\n",
    "ds_enc['train'][0]"
   ]
  },
  {
   "cell_type": "code",
   "execution_count": 15,
   "metadata": {
    "execution": {
     "iopub.execute_input": "2021-09-16T23:23:24.879477Z",
     "iopub.status.busy": "2021-09-16T23:23:24.879204Z",
     "iopub.status.idle": "2021-09-16T23:23:24.890567Z",
     "shell.execute_reply": "2021-09-16T23:23:24.889911Z",
     "shell.execute_reply.started": "2021-09-16T23:23:24.879444Z"
    }
   },
   "outputs": [],
   "source": [
    "LR = 2e-5\n",
    "EPS = 1e-8\n",
    "EPOCHS = 3\n",
    "\n",
    "def evaluate(model, val_dataloader):\n",
    "    model.eval()\n",
    "    loss_val_total = 0\n",
    "    for batch in val_dataloader:\n",
    "        inputs = {\n",
    "                'attention_mask': batch['attention_mask'].to(DEVICE),\n",
    "                'input_ids': batch['input_ids'].to(DEVICE),\n",
    "                'token_type_ids': batch['token_type_ids'].to(DEVICE),\n",
    "                'labels': batch['label'].to(DEVICE),\n",
    "            }\n",
    "        with torch.no_grad():\n",
    "            output = model(**inputs)\n",
    "            loss = output.loss\n",
    "        loss_val_total += loss.item()\n",
    "    loss_val_avg = loss_val_total/len(val_dataloader) \n",
    "    return loss_val_avg\n",
    "\n",
    "def train(model, train_dataloader, val_dataloader):\n",
    "    optimizer = AdamW(model.parameters(), lr = LR, eps = EPS)\n",
    "    scheduler = get_linear_schedule_with_warmup(optimizer, num_warmup_steps=0, num_training_steps=len(train_dataloader) * EPOCHS)\n",
    "    best_val_loss = 1\n",
    "    model.train()\n",
    "    for epoch in range(EPOCHS):\n",
    "        loss_train_total = 0\n",
    "        for batch in tqdm(train_dataloader):\n",
    "            model.zero_grad()\n",
    "            inputs = {\n",
    "                'attention_mask': batch['attention_mask'].to(DEVICE),\n",
    "                'input_ids': batch['input_ids'].to(DEVICE),\n",
    "                'token_type_ids': batch['token_type_ids'].to(DEVICE),\n",
    "                'labels': batch['label'].to(DEVICE),\n",
    "            }\n",
    "            output = model(**inputs)\n",
    "            loss = output.loss\n",
    "            loss_train_total += loss.item()\n",
    "            loss.backward()\n",
    "            optimizer.step()\n",
    "            scheduler.step()\n",
    "        loss_train_avg = loss_train_total / len(train_dataloader)\n",
    "        loss_val_avg = evaluate(model, val_dataloader)\n",
    "        print(f'epoch:{epoch+1}/{EPOCHS} train loss={loss_train_avg}  val loss={loss_val_avg}')\n",
    "        \n",
    "        if loss_val_avg < best_val_loss:\n",
    "            best_val_loss = loss_val_avg    \n",
    "    return best_val_loss"
   ]
  },
  {
   "cell_type": "code",
   "execution_count": 20,
   "metadata": {
    "execution": {
     "iopub.execute_input": "2021-09-16T23:25:32.379325Z",
     "iopub.status.busy": "2021-09-16T23:25:32.379047Z",
     "iopub.status.idle": "2021-09-16T23:37:48.852916Z",
     "shell.execute_reply": "2021-09-16T23:37:48.851234Z",
     "shell.execute_reply.started": "2021-09-16T23:25:32.379293Z"
    }
   },
   "outputs": [
    {
     "data": {
      "application/vnd.jupyter.widget-view+json": {
       "model_id": "f78002b9eb66439f872f425e0cce2d53",
       "version_major": 2,
       "version_minor": 0
      },
      "text/plain": [
       "  0%|          | 0/308 [00:00<?, ?it/s]"
      ]
     },
     "metadata": {},
     "output_type": "display_data"
    },
    {
     "name": "stdout",
     "output_type": "stream",
     "text": [
      "epoch:1/3 train loss=0.30688100898420656  val loss=0.24964034863007376\n"
     ]
    },
    {
     "data": {
      "application/vnd.jupyter.widget-view+json": {
       "model_id": "f8d192b0eea94aee825c1c75bd9e9e8e",
       "version_major": 2,
       "version_minor": 0
      },
      "text/plain": [
       "  0%|          | 0/308 [00:00<?, ?it/s]"
      ]
     },
     "metadata": {},
     "output_type": "display_data"
    },
    {
     "name": "stdout",
     "output_type": "stream",
     "text": [
      "epoch:2/3 train loss=0.23401242828407845  val loss=0.22632186114788055\n"
     ]
    },
    {
     "data": {
      "application/vnd.jupyter.widget-view+json": {
       "model_id": "ebd557ebcf924eb2b816997f89df1123",
       "version_major": 2,
       "version_minor": 0
      },
      "text/plain": [
       "  0%|          | 0/308 [00:00<?, ?it/s]"
      ]
     },
     "metadata": {},
     "output_type": "display_data"
    },
    {
     "name": "stdout",
     "output_type": "stream",
     "text": [
      "epoch:3/3 train loss=0.19205019770601353  val loss=0.24872049039755112\n",
      "[0.22632186114788055]\n"
     ]
    }
   ],
   "source": [
    "train_dataloader = torch.utils.data.DataLoader(ds_enc['train'], batch_size=32)\n",
    "val_dataloader = torch.utils.data.DataLoader(ds_enc['validation'], batch_size=32)\n",
    "train(model, train_dataloader, val_dataloader)"
   ]
  },
  {
   "cell_type": "code",
   "execution_count": 21,
   "metadata": {
    "execution": {
     "iopub.execute_input": "2021-09-16T23:42:55.366165Z",
     "iopub.status.busy": "2021-09-16T23:42:55.365887Z",
     "iopub.status.idle": "2021-09-16T23:43:05.484706Z",
     "shell.execute_reply": "2021-09-16T23:43:05.483979Z",
     "shell.execute_reply.started": "2021-09-16T23:42:55.366136Z"
    }
   },
   "outputs": [
    {
     "name": "stdout",
     "output_type": "stream",
     "text": [
      "Accuracy of base model is 0.6842 and f-score is 0.6555\n"
     ]
    }
   ],
   "source": [
    "model.eval()\n",
    "predictions = []\n",
    "test_dataloader = torch.utils.data.DataLoader(ds_enc['test'], batch_size=32)\n",
    "for batch in test_dataloader:\n",
    "    inputs = {\n",
    "            'attention_mask': batch['attention_mask'].to(DEVICE),\n",
    "            'input_ids': batch['input_ids'].to(DEVICE),\n",
    "            'token_type_ids': batch['token_type_ids'].to(DEVICE),\n",
    "        }\n",
    "    with torch.no_grad():\n",
    "        output = model(**inputs)\n",
    "        batch_predictions = torch.argmax(output.logits, dim=1)\n",
    "        predictions.extend(batch_predictions.cpu().detach().numpy().ravel().tolist())\n",
    "\n",
    "labels = lb.inverse_transform(ds_enc['test']['label'])\n",
    "print(f\"Accuracy of base model is {accuracy_score(y_true=labels, y_pred=predictions):.4f} and f-score is {f1_score(y_true=labels, y_pred=predictions, average='weighted'):.4f}\")"
   ]
  },
  {
   "cell_type": "code",
   "execution_count": null,
   "metadata": {},
   "outputs": [],
   "source": []
  }
 ],
 "metadata": {
  "kernelspec": {
   "display_name": "Python 3",
   "language": "python",
   "name": "python3"
  },
  "language_info": {
   "codemirror_mode": {
    "name": "ipython",
    "version": 3
   },
   "file_extension": ".py",
   "mimetype": "text/x-python",
   "name": "python",
   "nbconvert_exporter": "python",
   "pygments_lexer": "ipython3",
   "version": "3.8.5"
  }
 },
 "nbformat": 4,
 "nbformat_minor": 4
}
