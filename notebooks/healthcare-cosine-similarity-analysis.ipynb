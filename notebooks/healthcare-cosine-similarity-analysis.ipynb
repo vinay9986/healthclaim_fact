{
 "cells": [
  {
   "cell_type": "code",
   "execution_count": 1,
   "metadata": {},
   "outputs": [],
   "source": [
    "import numpy as np\n",
    "import pandas as pd\n",
    "\n",
    "from bs4 import BeautifulSoup\n",
    "import unicodedata\n",
    "import re\n",
    "\n",
    "import sys\n",
    "from tqdm.notebook import tqdm\n",
    "from IPython.display import display, HTML, clear_output\n",
    "import random\n",
    "\n",
    "from sklearn.metrics.pairwise import cosine_similarity"
   ]
  },
  {
   "cell_type": "code",
   "execution_count": 2,
   "metadata": {},
   "outputs": [],
   "source": [
    "claim_train = pd.read_csv('../data/train_claim_embeddings.csv', low_memory=False)\n",
    "claim_test = pd.read_csv('../data/test_claim_embeddings.csv', low_memory=False)\n",
    "claim_val = pd.read_csv('../data/validation_claim_embeddings.csv', low_memory=False)"
   ]
  },
  {
   "cell_type": "code",
   "execution_count": 3,
   "metadata": {},
   "outputs": [],
   "source": [
    "main_train = pd.read_csv('../data/train_main_text_embeddings.csv', low_memory=False)\n",
    "main_test = pd.read_csv('../data/test_main_text_embeddings.csv', low_memory=False)\n",
    "main_val = pd.read_csv('../data/validation_main_text_embeddings.csv', low_memory=False)"
   ]
  },
  {
   "cell_type": "code",
   "execution_count": 4,
   "metadata": {},
   "outputs": [],
   "source": [
    "merged_train = main_train.merge(claim_train, how='inner', on='claim_id')\n",
    "merged_test = main_test.merge(claim_test, how='inner', on='claim_id')\n",
    "merged_val = main_val.merge(claim_val, how='inner', on='claim_id')"
   ]
  },
  {
   "cell_type": "code",
   "execution_count": 5,
   "metadata": {},
   "outputs": [],
   "source": [
    "column_x = []\n",
    "column_y = []\n",
    "\n",
    "for i in range(768):\n",
    "    column_x.append(str(i)+'_x')\n",
    "    column_y.append(str(i)+'_y')"
   ]
  },
  {
   "cell_type": "code",
   "execution_count": 6,
   "metadata": {},
   "outputs": [],
   "source": [
    "def calculate_cosine_similarity(row):\n",
    "    return cosine_similarity(row[column_x].values.reshape(1, -1), row[column_y].values.reshape(1, -1)).reshape(-1)[0]"
   ]
  },
  {
   "cell_type": "code",
   "execution_count": 7,
   "metadata": {},
   "outputs": [],
   "source": [
    "merged_train['cosine_similarity'] = merged_train.apply(lambda row: calculate_cosine_similarity(row), axis=1)\n",
    "merged_test['cosine_similarity'] = merged_test.apply(lambda row: calculate_cosine_similarity(row), axis=1)\n",
    "merged_val['cosine_similarity'] = merged_val.apply(lambda row: calculate_cosine_similarity(row), axis=1)"
   ]
  },
  {
   "cell_type": "code",
   "execution_count": 8,
   "metadata": {},
   "outputs": [],
   "source": [
    "def generate_pairs(df):\n",
    "    return_map = dict()\n",
    "    for claim_id in tqdm(df.claim_id.values):\n",
    "        return_map[claim_id] = df.loc[df['claim_id'] == claim_id].sort_values(by='cosine_similarity', axis=0, ascending=False).head(5)['sent_id'].values\n",
    "    return return_map"
   ]
  },
  {
   "cell_type": "code",
   "execution_count": 9,
   "metadata": {},
   "outputs": [],
   "source": [
    "train_map = generate_pairs(merged_train)\n",
    "test_map = generate_pairs(merged_test)\n",
    "val_map = generate_pairs(merged_val)\n",
    "clear_output()"
   ]
  },
  {
   "cell_type": "code",
   "execution_count": 10,
   "metadata": {},
   "outputs": [
    {
     "data": {
      "text/plain": [
       "(9805, 1235, 1215)"
      ]
     },
     "execution_count": 10,
     "metadata": {},
     "output_type": "execute_result"
    }
   ],
   "source": [
    "len(train_map.keys()), len(test_map.keys()), len(val_map.keys())"
   ]
  },
  {
   "cell_type": "code",
   "execution_count": 11,
   "metadata": {},
   "outputs": [],
   "source": [
    "claim_train_df = pd.read_csv('../data/claim_train_df.csv', low_memory=False)\n",
    "claim_test_df = pd.read_csv('../data/claim_test_df.csv', low_memory=False)\n",
    "claim_val_df = pd.read_csv('../data/claim_val_df.csv', low_memory=False)"
   ]
  },
  {
   "cell_type": "code",
   "execution_count": 12,
   "metadata": {},
   "outputs": [],
   "source": [
    "main_train_df = pd.read_csv('../data/main_text_train_df.csv', low_memory=False)\n",
    "main_test_df = pd.read_csv('../data/main_text_test_df.csv', low_memory=False)\n",
    "main_val_df = pd.read_csv('../data/main_text_val_df.csv', low_memory=False)"
   ]
  },
  {
   "cell_type": "code",
   "execution_count": 13,
   "metadata": {},
   "outputs": [],
   "source": [
    "def remove_html_tags(text):\n",
    "    return BeautifulSoup(text, 'html.parser').get_text()\n",
    "\n",
    "def remove_accented_chars(text):\n",
    "    return unicodedata.normalize('NFKD', text).encode('ascii', 'ignore').decode('utf-8', 'ignore')\n",
    "\n",
    "def remove_special_characters(text): \n",
    "    return re.sub(r'[^a-zA-z0-9.,!?/:;\\\"\\'\\s]', '', text)\n",
    "\n",
    "def remove_extra_whitespace_tabs(text):\n",
    "    return re.sub(r'^\\s*|\\s\\s*', ' ', text).strip()\n",
    "\n",
    "def preprocess(text):\n",
    "    processed_text = remove_html_tags(text)\n",
    "    processed_text = remove_accented_chars(processed_text)\n",
    "    processed_text = remove_special_characters(processed_text)\n",
    "    processed_text = remove_extra_whitespace_tabs(processed_text)\n",
    "    return processed_text\n",
    "\n",
    "def generate_pair_dataframes(claim_df, main_text_df, pair_map):\n",
    "    return_df = pd.DataFrame(columns=['claim', 'main_text', 'label'])\n",
    "    for key in tqdm(pair_map.keys()):\n",
    "        claim = claim_df[claim_df['claim_id'] == key]['sentence'].values[0]\n",
    "        label = claim_df[claim_df['claim_id'] == key]['label'].values[0]\n",
    "        main_text = preprocess(' '.join(sentence for sentence in main_text_df[(main_text_df['claim_id'] == key) & (main_text_df['sent_id'].isin(pair_map[key]))]['sentence'].values))\n",
    "        return_df.loc[len(return_df.index)] = [claim, main_text, label]\n",
    "    return return_df"
   ]
  },
  {
   "cell_type": "code",
   "execution_count": 14,
   "metadata": {},
   "outputs": [],
   "source": [
    "train = generate_pair_dataframes(claim_train_df, main_train_df, train_map)\n",
    "test = generate_pair_dataframes(claim_test_df, main_test_df, test_map)\n",
    "val = generate_pair_dataframes(claim_val_df, main_val_df, val_map)\n",
    "clear_output()"
   ]
  },
  {
   "cell_type": "code",
   "execution_count": 15,
   "metadata": {},
   "outputs": [],
   "source": [
    "def show_random_elements(df, num_examples=10):\n",
    "    assert num_examples <= df.shape[0], \"Can't pick more elements than there are in the dataset.\"\n",
    "    picks = []\n",
    "    for _ in range(num_examples):\n",
    "        pick = random.randint(0, df.shape[0]-1)\n",
    "        while pick in picks:\n",
    "            pick = random.randint(0, df.shape[0]-1)\n",
    "        picks.append(pick)\n",
    "    \n",
    "    display(HTML(df.iloc[picks].to_html()))"
   ]
  },
  {
   "cell_type": "code",
   "execution_count": 16,
   "metadata": {},
   "outputs": [
    {
     "data": {
      "text/html": [
       "<table border=\"1\" class=\"dataframe\">\n",
       "  <thead>\n",
       "    <tr style=\"text-align: right;\">\n",
       "      <th></th>\n",
       "      <th>claim</th>\n",
       "      <th>main_text</th>\n",
       "      <th>label</th>\n",
       "    </tr>\n",
       "  </thead>\n",
       "  <tbody>\n",
       "    <tr>\n",
       "      <th>7406</th>\n",
       "      <td>Mediterranean diet cuts heart, diabetes risk factors</td>\n",
       "      <td>The story described the health benefits associated with consumption of a Mediterranean diet in the broadest of terms. The story included data from the American Heart Association about the numbers /percentage of people who met the criteria for metabolic syndrome, and its prevalence in adolescents. The study was about risk factors for risk factors. Metabolic syndrome is not a disease. Other studies have compared the Mediterranean diet with a lower carb diet and others, and looked at intermediate endpoints that go along with the metabolic syndrome.</td>\n",
       "      <td>1</td>\n",
       "    </tr>\n",
       "    <tr>\n",
       "      <th>15</th>\n",
       "      <td>The train carrying GOP members of Congress to a West Virginia retreat crashed due to a Deep State plot.</td>\n",
       "      <td>On 31 January 2018, an Amtrak train carrying Republican members of Congress to a retreat struck a garbage truck that was on the tracks at 11:20 a.m. in Crozet, Virginia, killing one person. Less than twelve hours after President Trump was caught on a hot mic telling a colleague that the memo would 100 be released, the Deep State killing machine whirred into life and attempted to cause mass carnage on the Amtrak rails. They claimed that U.S. spies and secret power brokers feared the address would rally the country behind Trump. According to witnesses, including lawmakers who were on board the train headed to a retreat in West Virginia, the train hit a garbage truck that was on the tracks. a massive Deep State conspiracy to harm Republican legislators.</td>\n",
       "      <td>0</td>\n",
       "    </tr>\n",
       "    <tr>\n",
       "      <th>2332</th>\n",
       "      <td>Viral image Says the coronavirus isn’t new because “Lysol has it listed as one of the viruses that it kills.”</td>\n",
       "      <td>\"Many social media users are sharing posts that suggest health officials are lying when they claim ignorance about the recent coronavirus outbreak, such as this one from Jan. 31. \"\"Dont fall for the B.S. they claim the Coronavirus is new... But regular over the counter Lysol has it listed as one of the viruses that it kills!\" Weve already debunked several hoaxes and conspiracies about the coronavirus, including one thats similar to the claim in this Facebook post: that Clorox bottles prove the coronavirus was developed before the recent outbreak in China. It says that specific Lysol products, including its disinfectant spray, \"\"have demonstrated effectiveness against viruses similar to 2019 Novel coronavirus 2019nCoV on hard, nonporous surfaces.\" ly assumes that because the label for Lysol disinfectant spray includes mention of its effectiveness against \"\"coronavirus,\"\" media descriptions of a current outbreak as being caused by a new virus are \"\"B.S.\"</td>\n",
       "      <td>0</td>\n",
       "    </tr>\n",
       "    <tr>\n",
       "      <th>1880</th>\n",
       "      <td>Meth in Louisiana is contaminated with the Zika virus.</td>\n",
       "      <td>On 29 December 2018, the Police Department of Harahan, Louisiana, posted a warning on Facebook advising local residents that if they had recently purchased meth in any area of Louisiana, they should bring it to their local police department to ensure it was not contaminated with the Zika virus: If you have recently purchased meth in any area of Louisiana it may be contaminated with the Zika Virus. In fact, no meth in Louisiana or anywhere else is believed to be contaminated with the Zika virus which is typically transmitted through mosquito bites. Indeed, the Harahan police chief admitted that the department never had reason to believe Zika was able to contaminate meth and that they have no way to test for Zika in meth, asserting that the Facebook post was a stunt to raise awareness of drug abuse: Harahan Police Chief Tim Walker acknowledged that the post was just a stunt to raise awareness of drug abuse and that its not actually possible to have Zika virus in methamphetamine.</td>\n",
       "      <td>0</td>\n",
       "    </tr>\n",
       "    <tr>\n",
       "      <th>700</th>\n",
       "      <td>There are places in America that are among the most dangerous in the world. You go to places like Oakland. Or Ferguson. The crime numbers are worse. Seriously.</td>\n",
       "      <td>\"\"There are places in America that are among the most dangerous in the world. \"The most dangerous place in America is Donald Trump's mouth.\" So where are the most dangerous places in the world? In short, there are definitely more dangerous places than Oakland, Ferguson and other American cities. \" \" Our ruling Trump said, \"\"There are places in America that are among the most dangerous in the world.</td>\n",
       "      <td>0</td>\n",
       "    </tr>\n",
       "    <tr>\n",
       "      <th>4415</th>\n",
       "      <td>Stem cell transplants may induce long-term remission of multiple sclerosis</td>\n",
       "      <td>Transplants that use a patients own stem cells, known as autologous transplants, are cheaper than those that use donor cells. The news release states: The news release does the bare minimum here, stating: During the 1990s bone marrow transplantation following high dose chemotherapy was touted as a cure for breast cancer. Described in a book called False Hope:</td>\n",
       "      <td>0</td>\n",
       "    </tr>\n",
       "    <tr>\n",
       "      <th>6830</th>\n",
       "      <td>\"Young people are growing \"\"horns\"\" in the base of their skulls from looking down at cellphone screens.\"</td>\n",
       "      <td>In June 2019, a wide variety of news publications reported that researchers had identified a rather startling development in human physiology due to the use of technology: horns or spikes were growing out of the base of young peoples skulls as a result of their constantly looking down at cellphone screens. Horns growing on young peoples skulls? Its a juicy headline, but its not the truth, he said. But the graph didnt match the finding that men were more than five times as likely as women to have an enlarged EOP it instead shows both sexes having very high and similar frequencies, Hawks said: Hawks also questioned whether many of the xray images were really enlarged EOPs or illusions created by the angle at which the xrays were taken. Altogether, this means that what the authors are looking at might have nothing to do with what an anthropologist can see on a bone at all.</td>\n",
       "      <td>3</td>\n",
       "    </tr>\n",
       "    <tr>\n",
       "      <th>3568</th>\n",
       "      <td>Scientists aim at joint injuries that can trigger arthritis.</td>\n",
       "      <td>The researchers are seeking funds for human studies, part of a growing effort to understand why an aggressive form of arthritis can develop after some common orthopedic injuries a torn knee ligament, for example, or a broken bone in a joint seem to have healed. Osteoarthritis, the most common kind, usually occurs when jointcushioning cartilage gradually wears away over decades of use. But about 5.6 million people in the U.S. get a subtype that strikes faster posttraumatic osteoarthritis thats sparked by injuries to weightbearing joints. And ankle fractures that crack into the cartilage can trigger posttraumatic osteoarthritis even faster, making it ideal to study in the joints of 200pound pigs that react a lot like human ankles. Only some cartilage cells die immediately upon impact.</td>\n",
       "      <td>2</td>\n",
       "    </tr>\n",
       "    <tr>\n",
       "      <th>7612</th>\n",
       "      <td>Group recommends Down syndrome testing</td>\n",
       "      <td>The story does list the risk of miscarriage with amniocentisis, but does not mention the risks with newer tests. The story also does not mention the rate of false negatives or false positives of newer methods of screening, such as nuchal translucency. The story should be given credit for providing the rationale for the change in screening guidelines, that is, why age 35 is not longer a benchmark for determining who is screened for chromosomal abnormalities in pregnancy. Testing for Down's syndrome may now be recommended for all pregnant women, regardless of age, but it does not always provide \"\"peace of mind\"\" and a woman should know that a positive result would mean a decision for more invasive testing and possibly the decision to terminate a pregnancy. Additionally, detection of Down syndrome does not mean a woman must terminate her pregnancy.</td>\n",
       "      <td>0</td>\n",
       "    </tr>\n",
       "    <tr>\n",
       "      <th>402</th>\n",
       "      <td>Drinking boiled garlic water will cure COVID-19.</td>\n",
       "      <td>In early 2020 the global spread of COVID19, a disease caused by the new coronavirus, saw the internet flooded with dubious medical advice about how to avoid or cure the illness. One such example supposedly originating with the medical sage known as old Chinese doctor held that consuming a bowl of boiled garlic water would improve and cure persons afflicted with the malady overnight: Garlic has long been claimed as possessing qualities that aid in the prevention and treatment of various illnesses, including colds and flu, but scientific evidence supporting such claims is weak or lacking. The World Health Organization WHO specifically addressed this rumor in reference to COVID19 and noted that although garlic is a healthy food that may have some antimicrobial properties, theres no evidence that eating garlic has protected people from the new coronavirus:</td>\n",
       "      <td>0</td>\n",
       "    </tr>\n",
       "  </tbody>\n",
       "</table>"
      ],
      "text/plain": [
       "<IPython.core.display.HTML object>"
      ]
     },
     "metadata": {},
     "output_type": "display_data"
    }
   ],
   "source": [
    "show_random_elements(train)"
   ]
  },
  {
   "cell_type": "code",
   "execution_count": 17,
   "metadata": {},
   "outputs": [],
   "source": [
    "train.to_csv('../data/train.csv', index=False)\n",
    "test.to_csv('../data/test.csv', index=False)\n",
    "val.to_csv('../data/val.csv', index=False)"
   ]
  },
  {
   "cell_type": "code",
   "execution_count": null,
   "metadata": {},
   "outputs": [],
   "source": []
  }
 ],
 "metadata": {
  "kernelspec": {
   "display_name": "pytorch38",
   "language": "python",
   "name": "pytorch38"
  },
  "language_info": {
   "codemirror_mode": {
    "name": "ipython",
    "version": 3
   },
   "file_extension": ".py",
   "mimetype": "text/x-python",
   "name": "python",
   "nbconvert_exporter": "python",
   "pygments_lexer": "ipython3",
   "version": "3.8.10"
  }
 },
 "nbformat": 4,
 "nbformat_minor": 4
}
