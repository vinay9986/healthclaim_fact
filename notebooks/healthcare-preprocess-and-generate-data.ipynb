{
 "cells": [
  {
   "cell_type": "code",
   "execution_count": 1,
   "metadata": {
    "_cell_guid": "b1076dfc-b9ad-4769-8c92-a6c4dae69d19",
    "_uuid": "8f2839f25d086af736a60e9eeb907d3b93b6e0e5",
    "tags": []
   },
   "outputs": [
    {
     "name": "stdout",
     "output_type": "stream",
     "text": [
      "Running on datasets 1.8.0v\n"
     ]
    }
   ],
   "source": [
    "import datasets\n",
    "\n",
    "print(f\"Running on datasets {datasets.__version__}v\")"
   ]
  },
  {
   "cell_type": "code",
   "execution_count": 2,
   "metadata": {
    "tags": []
   },
   "outputs": [],
   "source": [
    "import numpy as np\n",
    "import pandas as pd\n",
    "from bs4 import BeautifulSoup\n",
    "import unicodedata\n",
    "import re\n",
    "import spacy\n",
    "\n",
    "from datasets import load_dataset\n",
    "\n",
    "from tqdm.notebook import tqdm\n",
    "from IPython.display import clear_output"
   ]
  },
  {
   "cell_type": "code",
   "execution_count": 3,
   "metadata": {
    "tags": []
   },
   "outputs": [],
   "source": [
    "ds = load_dataset(\"health_fact\", \"regular\")\n",
    "clear_output()"
   ]
  },
  {
   "cell_type": "code",
   "execution_count": 4,
   "metadata": {},
   "outputs": [
    {
     "data": {
      "text/plain": [
       "((9832, 9), (1235, 9), (1225, 9))"
      ]
     },
     "execution_count": 4,
     "metadata": {},
     "output_type": "execute_result"
    }
   ],
   "source": [
    "train = ds['train'].to_pandas()\n",
    "test = ds['test'].to_pandas()\n",
    "val = ds['validation'].to_pandas()\n",
    "\n",
    "train.shape, test.shape, val.shape"
   ]
  },
  {
   "cell_type": "code",
   "execution_count": 5,
   "metadata": {},
   "outputs": [
    {
     "data": {
      "text/plain": [
       "((9814, 9), (1235, 9), (1217, 9))"
      ]
     },
     "execution_count": 5,
     "metadata": {},
     "output_type": "execute_result"
    }
   ],
   "source": [
    "nums = ['0', '1', '2', '3', '4', '5', '6', '7', '8', '9']\n",
    "train.drop(train[~train.claim_id.str.startswith(tuple(nums))].index, inplace=True)\n",
    "train.reset_index(drop=True, inplace=True)\n",
    "test.drop(test[~test.claim_id.str.startswith(tuple(nums))].index, inplace=True)\n",
    "test.reset_index(drop=True, inplace=True)\n",
    "val.drop(val[~val.claim_id.str.startswith(tuple(nums))].index, inplace=True)\n",
    "val.reset_index(drop=True, inplace=True)\n",
    "\n",
    "train.shape, test.shape, val.shape"
   ]
  },
  {
   "cell_type": "code",
   "execution_count": 6,
   "metadata": {
    "tags": []
   },
   "outputs": [],
   "source": [
    "cols_to_drop = ['date_published', 'explanation', 'fact_checkers', 'main_text', 'sources', 'subjects']\n",
    "\n",
    "claim_train_df = train.drop(columns=cols_to_drop, axis=1)\n",
    "claim_train_df.rename(columns={\"claim\": \"sentence\"}, inplace=True)\n",
    "\n",
    "claim_test_df = test.drop(columns=cols_to_drop, axis=1)\n",
    "claim_test_df.rename(columns={\"claim\": \"sentence\"}, inplace=True)\n",
    "\n",
    "claim_val_df = val.drop(columns=cols_to_drop, axis=1)\n",
    "claim_val_df.rename(columns={\"claim\": \"sentence\"}, inplace=True)\n",
    "\n",
    "claim_train_df.to_csv('../data/claim_train_df.csv', index=False)\n",
    "claim_val_df.to_csv('../data/claim_val_df.csv', index=False)\n",
    "claim_test_df.to_csv('../data/claim_test_df.csv', index=False)"
   ]
  },
  {
   "cell_type": "code",
   "execution_count": 7,
   "metadata": {},
   "outputs": [],
   "source": [
    "def remove_html_tags(text):\n",
    "    return BeautifulSoup(text, 'html.parser').get_text()\n",
    "\n",
    "def remove_accented_chars(text):\n",
    "    return unicodedata.normalize('NFKD', text).encode('ascii', 'ignore').decode('utf-8', 'ignore')\n",
    "\n",
    "def remove_special_characters(text): \n",
    "    return re.sub(r'[^a-zA-z0-9.,!?/:;\\\"\\'\\s]', '', text)\n",
    "\n",
    "def remove_extra_whitespace_tabs(text):\n",
    "    return re.sub(r'^\\s*|\\s\\s*', ' ', text).strip()\n",
    "\n",
    "def preprocess(text):\n",
    "    processed_text = remove_html_tags(text)\n",
    "    processed_text = remove_accented_chars(processed_text)\n",
    "    processed_text = remove_special_characters(processed_text)\n",
    "    processed_text = remove_extra_whitespace_tabs(processed_text)\n",
    "    return processed_text\n",
    "\n",
    "def create_dataframe(df):\n",
    "    nlp = spacy.load('en')\n",
    "    return_df = pd.DataFrame(columns=['claim_id', 'sent_id', 'sentence'])\n",
    "    for _, row in tqdm(df.iterrows(), total=df.shape[0]):\n",
    "        tokens = nlp(row['sentence'].strip())\n",
    "        sentences = [sent for sent in tokens.sents]\n",
    "        if len(sentences) > 0:\n",
    "            claim_ids = [row['claim_id']] * len(sentences)\n",
    "            sent_ids = list(range(len(sentences)))\n",
    "            data = {'claim_id': claim_ids, 'sent_id': sent_ids, 'sentence': sentences}\n",
    "            return_df = return_df.append(pd.DataFrame(data), ignore_index=True)\n",
    "    return return_df\n",
    "\n",
    "def generate_main_text_dataframe(main_train, main_test, main_val):\n",
    "    cols_to_drop = ['date_published', 'explanation', 'fact_checkers', 'claim', 'sources', 'subjects', 'label']\n",
    "\n",
    "    main_train.drop(columns=cols_to_drop, axis=1, inplace=True)\n",
    "    main_train.rename(columns={\"main_text\": \"sentence\"}, inplace=True)\n",
    "\n",
    "    main_test.drop(columns=cols_to_drop, axis=1, inplace=True)\n",
    "    main_test.rename(columns={\"main_text\": \"sentence\"}, inplace=True)\n",
    "\n",
    "    main_val.drop(columns=cols_to_drop, axis=1, inplace=True)\n",
    "    main_val.rename(columns={\"main_text\": \"sentence\"}, inplace=True)\n",
    "\n",
    "    main_train['sentence'] = main_train['sentence'].apply(lambda x: preprocess(x))\n",
    "    main_test['sentence'] = main_test['sentence'].apply(lambda x: preprocess(x))\n",
    "    main_val['sentence'] = main_val['sentence'].apply(lambda x: preprocess(x))\n",
    "    \n",
    "    train_df = create_dataframe(main_train)\n",
    "    test_df = create_dataframe(main_test)\n",
    "    val_df = create_dataframe(main_val)\n",
    "    return train_df, test_df, val_df"
   ]
  },
  {
   "cell_type": "code",
   "execution_count": 8,
   "metadata": {},
   "outputs": [
    {
     "data": {
      "application/vnd.jupyter.widget-view+json": {
       "model_id": "a8417b3d2ba3485dae497226e029771f",
       "version_major": 2,
       "version_minor": 0
      },
      "text/plain": [
       "HBox(children=(FloatProgress(value=0.0, max=9814.0), HTML(value='')))"
      ]
     },
     "metadata": {},
     "output_type": "display_data"
    },
    {
     "name": "stdout",
     "output_type": "stream",
     "text": [
      "\n"
     ]
    },
    {
     "data": {
      "application/vnd.jupyter.widget-view+json": {
       "model_id": "d1c0016367824e2ea3a01997e8b6cdc3",
       "version_major": 2,
       "version_minor": 0
      },
      "text/plain": [
       "HBox(children=(FloatProgress(value=0.0, max=1235.0), HTML(value='')))"
      ]
     },
     "metadata": {},
     "output_type": "display_data"
    },
    {
     "name": "stdout",
     "output_type": "stream",
     "text": [
      "\n"
     ]
    },
    {
     "data": {
      "application/vnd.jupyter.widget-view+json": {
       "model_id": "3e5b1d9785aa4436a4caf8d1d93da295",
       "version_major": 2,
       "version_minor": 0
      },
      "text/plain": [
       "HBox(children=(FloatProgress(value=0.0, max=1217.0), HTML(value='')))"
      ]
     },
     "metadata": {},
     "output_type": "display_data"
    },
    {
     "name": "stdout",
     "output_type": "stream",
     "text": [
      "\n"
     ]
    }
   ],
   "source": [
    "main_text_train_df, main_text_test_df, main_text_val_df = generate_main_text_dataframe(train, test, val)"
   ]
  },
  {
   "cell_type": "code",
   "execution_count": 29,
   "metadata": {},
   "outputs": [],
   "source": [
    "main_text_train_df.to_csv('../data/main_text_train_df.csv', index=False)\n",
    "main_text_test_df.to_csv('../data/main_text_test_df.csv', index=False)\n",
    "main_text_val_df.to_csv('../data/main_text_val_df.csv', index=False)"
   ]
  },
  {
   "cell_type": "code",
   "execution_count": null,
   "metadata": {},
   "outputs": [],
   "source": []
  }
 ],
 "metadata": {
  "kernelspec": {
   "display_name": "pytorch38",
   "language": "python",
   "name": "pytorch38"
  },
  "language_info": {
   "codemirror_mode": {
    "name": "ipython",
    "version": 3
   },
   "file_extension": ".py",
   "mimetype": "text/x-python",
   "name": "python",
   "nbconvert_exporter": "python",
   "pygments_lexer": "ipython3",
   "version": "3.8.10"
  }
 },
 "nbformat": 4,
 "nbformat_minor": 4
}
